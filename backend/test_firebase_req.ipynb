{
 "cells": [
  {
   "cell_type": "code",
   "execution_count": null,
   "metadata": {},
   "outputs": [],
   "source": [
    "from api_key import API_KEY\n",
    "from datetime import datetime as dt\n",
    "from random import randint, uniform\n",
    "\n",
    "import json\n",
    "import requests"
   ]
  },
  {
   "cell_type": "code",
   "execution_count": null,
   "metadata": {},
   "outputs": [],
   "source": [
    "DB_URL = \"https://pigeonblog-db-default-rtdb.firebaseio.com\"\n",
    "AUTH_URL = \"https://identitytoolkit.googleapis.com/v1/accounts:signUp\""
   ]
  },
  {
   "cell_type": "markdown",
   "metadata": {},
   "source": [
    "### Auth"
   ]
  },
  {
   "cell_type": "code",
   "execution_count": null,
   "metadata": {},
   "outputs": [],
   "source": [
    "post_url = f\"{AUTH_URL}?key={API_KEY}\"\n",
    "res = requests.post(post_url, json={\"returnSecureToken\": True})\n",
    "if res.status_code == 200:\n",
    "  token = json.loads(res.text)[\"idToken\"]\n",
    "  print(\"ok\")"
   ]
  },
  {
   "cell_type": "markdown",
   "metadata": {},
   "source": [
    "### Nested schema"
   ]
  },
  {
   "cell_type": "code",
   "execution_count": null,
   "metadata": {},
   "outputs": [],
   "source": [
    "session_id = dt.now().strftime(\"%Y%m%d\")\n",
    "pigeon_id = randint(0, 4)\n",
    "\n",
    "sensors = { f\"sen{i}\": round(uniform(0.0, 16.0), 4) for i in range(8) }\n",
    "\n",
    "measurement = {\n",
    "  \"timestamp\": {\".sv\": \"timestamp\"},\n",
    "  \"lat\": round(uniform(33.730579, 34.334744), 4),\n",
    "  \"lon\": round(uniform(-118.656238, -118.159107), 4),\n",
    "  **sensors,\n",
    "}\n",
    "\n",
    "post_url = f\"{DB_URL}/sessions/{session_id}/pigeons/{pigeon_id}/measurements.json?auth={token}\"\n",
    "res = requests.post(post_url, json=measurement)\n",
    "print(res.text)"
   ]
  },
  {
   "cell_type": "markdown",
   "metadata": {},
   "source": [
    "### Flat schema"
   ]
  },
  {
   "cell_type": "code",
   "execution_count": null,
   "metadata": {},
   "outputs": [],
   "source": [
    "pigeon_id = randint(0, 4)\n",
    "\n",
    "sensors = { f\"sen{i}\": round(uniform(0.0, 16.0), 4) for i in range(8) }\n",
    "\n",
    "measurement = {\n",
    "  \"timestamp\": {\".sv\": \"timestamp\"},\n",
    "  \"pigeon\": pigeon_id,\n",
    "  \"lat\": round(uniform(33.730579, 34.334744), 4),\n",
    "  \"lon\": round(uniform(-118.656238, -118.159107), 4),\n",
    "  **sensors,\n",
    "}\n",
    "\n",
    "post_url = f\"{DB_URL}/measurements.json?auth={token}\"\n",
    "res = requests.post(post_url, json=measurement)\n",
    "print(res.text)"
   ]
  },
  {
   "cell_type": "markdown",
   "metadata": {},
   "source": [
    "### Flat A9G"
   ]
  },
  {
   "cell_type": "code",
   "execution_count": null,
   "metadata": {},
   "outputs": [],
   "source": [
    "datapack = {\n",
    "  \"timestamp\": {\".sv\": \"timestamp\"},\n",
    "  \"pigeon\": randint(0, 4),\n",
    "  \"lat\": round(uniform(33.730579, 34.334744), 4),\n",
    "  \"lon\": round(uniform(-118.656238, -118.159107), 4),\n",
    "  \"sata\": 0,\n",
    "  \"satb\": 0,\n",
    "  \"temp\": randint(10, 35),\n",
    "  \"pres\": randint(750, 800),\n",
    "  \"alti\": randint(10, 1000),\n",
    "  \"NH3\": round(uniform(18.00, 22.0), 4),\n",
    "  \"OXI\": round(uniform(18.00, 22.0), 4),\n",
    "  \"RED\": round(uniform(18.00, 22.0), 4),\n",
    "  \"local\": int(dt.now().timestamp()),\n",
    "}\n",
    "\n",
    "post_url = f\"{DB_URL}/measurements.json?auth={token}\"\n",
    "res = requests.post(post_url, json=datapack)\n",
    "print(res.text)"
   ]
  },
  {
   "cell_type": "markdown",
   "metadata": {},
   "source": [
    "### ~2 minutes of test data"
   ]
  },
  {
   "cell_type": "code",
   "execution_count": null,
   "metadata": {},
   "outputs": [],
   "source": [
    "from random import shuffle\n",
    "from time import sleep\n",
    "\n",
    "p_list = list(range(5))\n",
    "\n",
    "for m in range(128):\n",
    "  shuffle(p_list)\n",
    "  for p in p_list:\n",
    "    datapack = {\n",
    "      \"timestamp\": {\".sv\": \"timestamp\"},\n",
    "      \"pigeon\": p,\n",
    "      \"lat\": round(uniform(33.730579, 34.334744), 4),\n",
    "      \"lon\": round(uniform(-118.656238, -118.159107), 4),\n",
    "      \"sata\": 0,\n",
    "      \"satb\": 0,\n",
    "      \"temp\": randint(10, 35),\n",
    "      \"pres\": randint(750, 800),\n",
    "      \"alti\": randint(10, 1000),\n",
    "      \"NH3\": round(uniform(18.00, 22.0), 4),\n",
    "      \"OXI\": round(uniform(18.00, 22.0), 4),\n",
    "      \"RED\": round(uniform(18.00, 22.0), 4),\n",
    "      \"local\": int(dt.now().timestamp()),\n",
    "    }\n",
    "\n",
    "    post_url = f\"{DB_URL}/measurements.json?auth={token}\"\n",
    "    res = requests.post(post_url, json=datapack)\n",
    "    sleep(uniform(0.1, 0.5))\n",
    "  sleep(1.0)\n"
   ]
  },
  {
   "cell_type": "markdown",
   "metadata": {},
   "source": [
    "### seed the /sessions/ part of the db"
   ]
  },
  {
   "cell_type": "code",
   "execution_count": null,
   "metadata": {},
   "outputs": [],
   "source": [
    "def get_start_of_day(ts):\n",
    "  return ts - (ts % (24 * 60 * 60 * 1000)) + 1000\n",
    "\n",
    "def get_first_measurement_after(ts):\n",
    "  start_of_day = get_start_of_day(ts)\n",
    "  start_of_next_day_ts = start_of_day + (24 * 60 * 60 * 1000)\n",
    "\n",
    "  get_url = f'{DB_URL}/measurements.json?orderBy=\"timestamp\"&startAt={start_of_next_day_ts}&limitToFirst=1'\n",
    "  res = requests.get(get_url)\n",
    "  if res.status_code == 200:\n",
    "    res_obj = json.loads(res.content)\n",
    "    if res_obj is not None:\n",
    "      return next(iter(res_obj.values()))\n",
    "  return {}"
   ]
  },
  {
   "cell_type": "code",
   "execution_count": null,
   "metadata": {},
   "outputs": [],
   "source": [
    "unique_days = set()\n",
    "\n",
    "latest_measurement = {\n",
    "  \"timestamp\": 1000\n",
    "}\n",
    "\n",
    "while \"timestamp\" in latest_measurement:\n",
    "  latest_measurement = get_first_measurement_after(latest_measurement[\"timestamp\"])\n",
    "  if \"timestamp\" in latest_measurement:\n",
    "    unique_days.add(get_start_of_day(latest_measurement[\"timestamp\"]))\n",
    "\n",
    "unique_days"
   ]
  },
  {
   "cell_type": "code",
   "execution_count": null,
   "metadata": {},
   "outputs": [],
   "source": [
    "d = next(iter(unique_days))\n",
    "\n",
    "for d in unique_days:\n",
    "  put_url = f\"{DB_URL}/sessions/{str(d)}.json?auth={token}\"\n",
    "  res = requests.put(put_url, data=\"true\")\n",
    "  print(res.status_code, res.content)\n"
   ]
  }
 ],
 "metadata": {
  "kernelspec": {
   "display_name": "Python 3.8.12 ('cordiais')",
   "language": "python",
   "name": "python3"
  },
  "language_info": {
   "codemirror_mode": {
    "name": "ipython",
    "version": 3
   },
   "file_extension": ".py",
   "mimetype": "text/x-python",
   "name": "python",
   "nbconvert_exporter": "python",
   "pygments_lexer": "ipython3",
   "version": "3.8.12"
  },
  "orig_nbformat": 4,
  "vscode": {
   "interpreter": {
    "hash": "f1c2f62437e6d0e01f5e1b297c172b677510728d5fc922584782013da7e41d7f"
   }
  }
 },
 "nbformat": 4,
 "nbformat_minor": 2
}
