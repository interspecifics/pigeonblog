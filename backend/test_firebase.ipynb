{
 "cells": [
  {
   "cell_type": "code",
   "execution_count": null,
   "metadata": {},
   "outputs": [],
   "source": [
    "from api_key import API_KEY\n",
    "from datetime import datetime as dt\n",
    "from random import gauss, randint, shuffle, uniform\n",
    "from time import sleep\n",
    "\n",
    "import json\n",
    "import requests"
   ]
  },
  {
   "cell_type": "code",
   "execution_count": null,
   "metadata": {},
   "outputs": [],
   "source": [
    "DB_URL = \"https://pigeonblog-db-default-rtdb.firebaseio.com\"\n",
    "AUTH_URL = \"https://identitytoolkit.googleapis.com/v1/accounts:signUp\"\n",
    "\n",
    "LAT = {\n",
    "  \"min\": 33.7306,\n",
    "  \"max\": 34.1528,\n",
    "  \"mean\": 33.9417,\n",
    "  \"std\": 0.211176 / 2\n",
    "}\n",
    "\n",
    "LON = {\n",
    "  \"min\": -118.3910,\n",
    "  \"max\": -117.8382,\n",
    "  \"mean\": -118.1146,\n",
    "  \"std\": 0.2764025 / 2\n",
    "}"
   ]
  },
  {
   "cell_type": "markdown",
   "metadata": {},
   "source": [
    "### Auth"
   ]
  },
  {
   "cell_type": "code",
   "execution_count": null,
   "metadata": {},
   "outputs": [],
   "source": [
    "post_url = f\"{AUTH_URL}?key={API_KEY}\"\n",
    "res = requests.post(post_url, json={\"returnSecureToken\": True})\n",
    "if res.status_code == 200:\n",
    "  token = json.loads(res.text)[\"idToken\"]\n",
    "  print(\"ok\")"
   ]
  },
  {
   "cell_type": "markdown",
   "metadata": {},
   "source": [
    "### Nested schema"
   ]
  },
  {
   "cell_type": "code",
   "execution_count": null,
   "metadata": {},
   "outputs": [],
   "source": [
    "session_id = dt.now().strftime(\"%Y%m%d\")\n",
    "pigeon_id = randint(0, 4)\n",
    "\n",
    "sensors = { f\"sen{i}\": round(uniform(0.0, 16.0), 4) for i in range(8) }\n",
    "\n",
    "measurement = {\n",
    "  \"timestamp\": {\".sv\": \"timestamp\"},\n",
    "  \"lat\": round(gauss(mu=LAT[\"mean\"], sigma=LAT[\"std\"]), 4),\n",
    "  \"lon\": round(gauss(mu=LON[\"mean\"], sigma=LON[\"std\"]), 4),\n",
    "  **sensors,\n",
    "}\n",
    "\n",
    "post_url = f\"{DB_URL}/sessions/{session_id}/pigeons/{pigeon_id}/measurements.json?auth={token}\"\n",
    "res = requests.post(post_url, json=measurement)\n",
    "print(res.text)"
   ]
  },
  {
   "cell_type": "markdown",
   "metadata": {},
   "source": [
    "### Flat A9G"
   ]
  },
  {
   "cell_type": "code",
   "execution_count": null,
   "metadata": {},
   "outputs": [],
   "source": [
    "datapack = {\n",
    "  \"timestamp\": {\".sv\": \"timestamp\"},\n",
    "  \"pigeon\": randint(0, 4),\n",
    "  \"lat\": round(gauss(mu=LAT[\"mean\"], sigma=LAT[\"std\"]), 4),\n",
    "  \"lon\": round(gauss(mu=LON[\"mean\"], sigma=LON[\"std\"]), 4),\n",
    "  \"sata\": 0,\n",
    "  \"satb\": 0,\n",
    "  \"temp\": randint(10, 35),\n",
    "  \"pres\": randint(750, 800),\n",
    "  \"alti\": randint(10, 1000),\n",
    "  \"NH3\": round(uniform(18.00, 22.0), 4),\n",
    "  \"OXI\": round(uniform(18.00, 22.0), 4),\n",
    "  \"RED\": round(uniform(18.00, 22.0), 4),\n",
    "  \"local\": int(dt.now().timestamp()),\n",
    "}\n",
    "\n",
    "post_url = f\"{DB_URL}/measurements.json?auth={token}\"\n",
    "res = requests.post(post_url, json=datapack)\n",
    "print(res.text)"
   ]
  },
  {
   "cell_type": "markdown",
   "metadata": {},
   "source": [
    "### ~3 minutes of test data"
   ]
  },
  {
   "cell_type": "code",
   "execution_count": null,
   "metadata": {},
   "outputs": [],
   "source": [
    "p_list = list(range(5))\n",
    "p_centers = [\n",
    "  {\n",
    "    \"LAT\": uniform(LAT[\"min\"], LAT[\"max\"]),\n",
    "    \"LON\": uniform(LON[\"min\"], LON[\"max\"])\n",
    "  } for x in p_list\n",
    "]"
   ]
  },
  {
   "cell_type": "code",
   "execution_count": null,
   "metadata": {},
   "outputs": [],
   "source": [
    "ts_date = \"2023/08/20 10:00:00 +0000\"\n",
    "ts_date = dt.strptime(ts_date, \"%Y/%m/%d %H:%M:%S %z\")\n",
    "ts = int(ts_date.timestamp() * 1000)"
   ]
  },
  {
   "cell_type": "code",
   "execution_count": null,
   "metadata": {},
   "outputs": [],
   "source": [
    "for m in range(512):\n",
    "  shuffle(p_list)\n",
    "  for p in p_list:\n",
    "    datapack = {\n",
    "      \"pigeon\": p,\n",
    "      # \"timestamp\": {\".sv\": \"timestamp\"},\n",
    "      \"timestamp\": ts,\n",
    "      \"lat\": round(gauss(mu=p_centers[p][\"LAT\"], sigma=LAT[\"std\"] / 3), 4),\n",
    "      \"lon\": round(gauss(mu=p_centers[p][\"LON\"], sigma=LON[\"std\"] / 3), 4),\n",
    "      \"sata\": 0,\n",
    "      \"satb\": 0,\n",
    "      \"temp\": randint(10, 35),\n",
    "      \"pres\": randint(750, 800),\n",
    "      \"alti\": randint(10, 1000),\n",
    "      \"NH3\": round(uniform(18.00, 22.0), 4),\n",
    "      \"OXI\": round(uniform(18.00, 22.0), 4),\n",
    "      \"RED\": round(uniform(18.00, 22.0), 4),\n",
    "      \"local\": int(dt.now().timestamp()),\n",
    "    }\n",
    "\n",
    "    post_url = f\"{DB_URL}/measurements.json?auth={token}\"\n",
    "    res = requests.post(post_url, json=datapack)\n",
    "    sleep(0.2)\n",
    "  sleep(0.5)"
   ]
  },
  {
   "cell_type": "markdown",
   "metadata": {},
   "source": [
    "### clean db: delete chosen range by index"
   ]
  },
  {
   "cell_type": "code",
   "execution_count": null,
   "metadata": {},
   "outputs": [],
   "source": [
    "get_url = f'{DB_URL}/sessions.json?shallow=true'\n",
    "res = requests.get(get_url)\n",
    "res_obj = json.loads(res.content)\n",
    "unique_days = res_obj.keys()\n",
    "unique_days_array = sorted(unique_days)\n",
    "[x for x in map(lambda x: dt.utcfromtimestamp(int(x)//1000).strftime(\"%Y-%m-%d\"), unique_days_array)]"
   ]
  },
  {
   "cell_type": "code",
   "execution_count": null,
   "metadata": {},
   "outputs": [],
   "source": [
    "first_day_to_delete_idx = 1\n",
    "last_day_to_delete_idx = 1\n",
    "\n",
    "first_day_start = int(unique_days_array[first_day_to_delete_idx])\n",
    "last_day_start = int(unique_days_array[last_day_to_delete_idx])\n",
    "\n",
    "last_day_end = last_day_start + 24 * 60 * 60 * 1000 - 1000\n",
    "\n",
    "get_url = f'{DB_URL}/measurements.json?orderBy=\"timestamp\"&startAt={first_day_start}&endAt={last_day_end}'\n",
    "res = requests.get(get_url)\n",
    "res_obj = json.loads(res.content)\n",
    "\n",
    "print(len(res_obj))\n",
    "\n",
    "for id in sorted(res_obj.keys()):\n",
    "  del_url = f\"{DB_URL}/measurements/{id}.json?auth={token}\"\n",
    "  res = requests.delete(del_url)"
   ]
  }
 ],
 "metadata": {
  "kernelspec": {
   "display_name": "Python 3.8.12 ('cordiais')",
   "language": "python",
   "name": "python3"
  },
  "language_info": {
   "codemirror_mode": {
    "name": "ipython",
    "version": 3
   },
   "file_extension": ".py",
   "mimetype": "text/x-python",
   "name": "python",
   "nbconvert_exporter": "python",
   "pygments_lexer": "ipython3",
   "version": "3.8.12"
  },
  "orig_nbformat": 4,
  "vscode": {
   "interpreter": {
    "hash": "f1c2f62437e6d0e01f5e1b297c172b677510728d5fc922584782013da7e41d7f"
   }
  }
 },
 "nbformat": 4,
 "nbformat_minor": 2
}
