{
 "cells": [
  {
   "cell_type": "code",
   "execution_count": null,
   "metadata": {},
   "outputs": [],
   "source": [
    "from api_key import API_KEY\n",
    "from datetime import datetime as dt\n",
    "from math import sqrt\n",
    "from queue import Queue\n",
    "from random import gauss, sample\n",
    "from time import sleep\n",
    "\n",
    "import json\n",
    "import requests"
   ]
  },
  {
   "cell_type": "code",
   "execution_count": null,
   "metadata": {},
   "outputs": [],
   "source": [
    "DB_URL = \"https://pigeonblog-db-default-rtdb.firebaseio.com\"\n",
    "AUTH_URL = \"https://identitytoolkit.googleapis.com/v1/accounts:signUp\"\n",
    "\n",
    "PATH = {\n",
    "  \"LAT\": {\n",
    "    \"start\": 34.0637,\n",
    "    \"end\": 33.8007,\n",
    "  },\n",
    "  \"LON\": {\n",
    "    \"start\": -118.3591,\n",
    "    \"end\": -117.8840,\n",
    "  },\n",
    "}\n",
    "\n",
    "GASES = {\n",
    "  \"aqi\": { \"min\": 1, \"max\": 5, \"mean\": 2, \"std\": 0.5 },\n",
    "  \"co2\": { \"min\": 400, \"max\": 3000, \"mean\": 400, \"std\": 100 },\n",
    "  \"tvocs\": { \"min\": 0, \"max\": 5000, \"mean\": 100, \"std\": 20 },\n",
    "  \"co\": { \"min\": 0, \"max\": 100, \"mean\": 50, \"std\": 15 },\n",
    "  \"eth\": { \"min\": 0, \"max\": 100, \"mean\": 50, \"std\": 15 },\n",
    "  \"h2\": { \"min\": 0, \"max\": 100, \"mean\": 50, \"std\": 15 },\n",
    "  \"meth\": { \"min\": 0, \"max\": 100, \"mean\": 50, \"std\": 15 },\n",
    "}\n",
    "\n",
    "SENSORS = {\n",
    "  \"temperature\": { \"min\": 10, \"max\": 35, \"mean\": 20, \"std\": 2 },\n",
    "  \"pressure\": { \"min\": 750, \"max\": 800, \"mean\": 775, \"std\": 4 },\n",
    "  \"altitude\": { \"min\": 2, \"max\": 1000, \"mean\": 100, \"std\": 10 },\n",
    "}\n",
    "\n",
    "def clamp(v, vmin, vmax):\n",
    "  return int(max(min(vmax, v), vmin) // 1) if vmin == 1 else max(min(vmax, v), vmin)\n",
    "\n",
    "def lerp(vmin, vmax, t):\n",
    "  return vmin + t * (vmax - vmin)\n",
    "\n",
    "def get_sample(d):\n",
    "  return round(clamp(gauss(d[\"mean\"], d[\"std\"]), d[\"min\"], d[\"max\"]), 4)"
   ]
  },
  {
   "cell_type": "code",
   "execution_count": null,
   "metadata": {},
   "outputs": [],
   "source": [
    "C1 = 1.70158\n",
    "C3 = C1 + 1\n",
    "\n",
    "EASINGS = {\n",
    "  \"backIn\": lambda x: C3 * x ** 3 - C1 * x ** 2,\n",
    "  \"backOut\": lambda x: 1 + C3 * (x - 1) ** 3 + C1 * (x - 1) ** 2,\n",
    "  \"circIn\": lambda x: 1 - sqrt(1 - x ** 2),\n",
    "  \"circOut\": lambda x: sqrt(1 - (x - 1) ** 2),\n",
    "  \"quadIn\": lambda x: x ** 2,\n",
    "  \"quadOut\": lambda x: 1 - (1 - x) ** 2,  \n",
    "  \"quinIn\": lambda x: x ** 5,\n",
    "  \"quinOut\": lambda x: 1 - (1 - x) ** 5,  \n",
    "  \"lInOut\": lambda x: x,\n",
    "  \"quadInOut\": lambda x: 2 * x ** 2 if x < 0.5 else 1 - pow(-2 * x + 2, 2) / 2,\n",
    "  \"quinInOut\": lambda x: 16 * pow(x, 5) if x < 0.5 else 1 - pow(-2 * x + 2, 5) / 2,\n",
    "}\n",
    "\n",
    "FUNS = sample([f for f in EASINGS.values()], k=len(EASINGS))"
   ]
  },
  {
   "cell_type": "markdown",
   "metadata": {},
   "source": [
    "### Auth"
   ]
  },
  {
   "cell_type": "code",
   "execution_count": null,
   "metadata": {},
   "outputs": [],
   "source": [
    "auth_url = f\"{AUTH_URL}?key={API_KEY}\"\n",
    "res = requests.post(auth_url, json={\"returnSecureToken\": True})\n",
    "if res.status_code == 200:\n",
    "  token = json.loads(res.text)[\"idToken\"]\n",
    "  print(\"ok\", len(token))\n",
    "\n",
    "post_url = f\"{DB_URL}/measurements.json?auth={token}\""
   ]
  },
  {
   "cell_type": "markdown",
   "metadata": {},
   "source": [
    "### Test Data"
   ]
  },
  {
   "cell_type": "code",
   "execution_count": null,
   "metadata": {},
   "outputs": [],
   "source": [
    "num_pigeons = 5\n",
    "p_list = list(range(num_pigeons))\n",
    "\n",
    "p_infos = [\n",
    "  {\n",
    "    \"LAT\": {\n",
    "      \"start\": gauss(PATH[\"LAT\"][\"start\"], 0.01),\n",
    "      \"end\": gauss(PATH[\"LAT\"][\"end\"], 0.001),\n",
    "      \"fun\": FUNS[p],\n",
    "    },\n",
    "    \"LON\": {\n",
    "      \"start\": gauss(PATH[\"LON\"][\"start\"], 0.01),\n",
    "      \"end\": gauss(PATH[\"LON\"][\"end\"], 0.001),\n",
    "      \"fun\": lambda x: x,\n",
    "    },\n",
    "  } for p in p_list\n",
    "]\n",
    "\n",
    "def get_loc(loc_info, t):\n",
    "  loc_t = loc_info[\"fun\"](t) + gauss(0, .01)\n",
    "  return round(lerp(loc_info[\"start\"], loc_info[\"end\"], loc_t), 4)"
   ]
  },
  {
   "cell_type": "code",
   "execution_count": null,
   "metadata": {},
   "outputs": [],
   "source": [
    "ts_date = \"2024/03/02 18:30:00 +0000\"\n",
    "ts_date = dt.strptime(ts_date, \"%Y/%m/%d %H:%M:%S %z\")\n",
    "ts = int(ts_date.timestamp() * 1000)"
   ]
  },
  {
   "cell_type": "code",
   "execution_count": null,
   "metadata": {},
   "outputs": [],
   "source": [
    "data = []\n",
    "dataq = Queue()\n",
    "\n",
    "n_points = 64\n",
    "\n",
    "for m in range(n_points):\n",
    "  t = m / (n_points - 1)\n",
    "  for p in p_list:\n",
    "    sensors = { s: get_sample(d) for s,d in GASES.items() }\n",
    "    datapack = {\n",
    "      \"pigeon\": p,\n",
    "      # \"timestamp\": {\".sv\": \"timestamp\"},\n",
    "      \"timestamp\": ts,\n",
    "      \"lat\": get_loc(p_infos[p][\"LAT\"], t),\n",
    "      \"lon\": get_loc(p_infos[p][\"LON\"], t),\n",
    "      \"sata\": 0,\n",
    "      \"satb\": 0,\n",
    "      \"temp\": get_sample(SENSORS[\"temperature\"]),\n",
    "      \"pres\": get_sample(SENSORS[\"pressure\"]),\n",
    "      \"alti\": get_sample(SENSORS[\"altitude\"]),\n",
    "      \"local\": int(dt.now().timestamp()),\n",
    "      **sensors,\n",
    "    }\n",
    "    data.append(datapack)\n",
    "\n",
    "    sensors = { s: get_sample(d) for s,d in GASES.items() }\n",
    "    datapack = {\n",
    "      **datapack,\n",
    "      \"lat\": get_loc(p_infos[p][\"LAT\"], 1 - t),\n",
    "      \"lon\": get_loc(p_infos[p][\"LON\"], 1 - t),\n",
    "      \"temp\": get_sample(SENSORS[\"temperature\"]),\n",
    "      \"pres\": get_sample(SENSORS[\"pressure\"]),\n",
    "      \"alti\": get_sample(SENSORS[\"altitude\"]),\n",
    "      **sensors,\n",
    "    }\n",
    "    data.append(datapack)\n",
    "\n",
    "for d in sorted(data, key=lambda x: x[\"lon\"]):\n",
    "  dataq.put(d)"
   ]
  },
  {
   "cell_type": "code",
   "execution_count": null,
   "metadata": {},
   "outputs": [],
   "source": [
    "while not dataq.empty():\n",
    "  datapack = dataq.get()\n",
    "  res = requests.post(post_url, json=datapack)\n",
    "  sleep(0.1)"
   ]
  },
  {
   "cell_type": "markdown",
   "metadata": {},
   "source": [
    "### clean db: delete chosen range by index"
   ]
  },
  {
   "cell_type": "code",
   "execution_count": null,
   "metadata": {},
   "outputs": [],
   "source": [
    "import threading\n",
    "import queue\n",
    "\n",
    "class Worker(threading.Thread):\n",
    "  def __init__(self, q, *args, **kwargs):\n",
    "    self.q = q\n",
    "    super().__init__(*args, **kwargs)\n",
    "  def run(self):\n",
    "    while True:\n",
    "      try:\n",
    "        id = self.q.get_nowait()\n",
    "        del_url = f\"{DB_URL}/measurements/{id}.json?auth={token}\"\n",
    "      except queue.Empty:\n",
    "        return\n",
    "\n",
    "      try:\n",
    "        requests.delete(del_url, timeout=1)\n",
    "        sleep(0.1)\n",
    "      except Exception as e:\n",
    "        print(\"E\", e)\n",
    "      else:\n",
    "        self.q.task_done()"
   ]
  },
  {
   "cell_type": "code",
   "execution_count": null,
   "metadata": {},
   "outputs": [],
   "source": [
    "get_url = f'{DB_URL}/sessions.json?shallow=true'\n",
    "res = requests.get(get_url)\n",
    "res_obj = json.loads(res.content)\n",
    "unique_days = res_obj.keys()\n",
    "unique_days_array = sorted(unique_days)\n",
    "[x for x in map(lambda x: dt.utcfromtimestamp(int(x)//1000).strftime(\"%Y-%m-%d\"), unique_days_array)]"
   ]
  },
  {
   "cell_type": "code",
   "execution_count": null,
   "metadata": {},
   "outputs": [],
   "source": [
    "first_day_to_delete_idx = 100\n",
    "last_day_to_delete_idx = 100\n",
    "\n",
    "first_day_start = int(unique_days_array[first_day_to_delete_idx])\n",
    "last_day_start = int(unique_days_array[last_day_to_delete_idx])\n",
    "\n",
    "last_day_end = last_day_start + 24 * 60 * 60 * 1000 - 1000\n",
    "\n",
    "get_url = f'{DB_URL}/measurements.json?orderBy=\"timestamp\"&startAt={first_day_start}&endAt={last_day_end}'\n",
    "res = requests.get(get_url)\n",
    "res_obj = json.loads(res.content)\n",
    "\n",
    "print(len(res_obj))\n",
    "\n",
    "q = queue.Queue()\n",
    "for id in sorted(res_obj.keys()):\n",
    "  q.put_nowait(id)\n",
    "\n",
    "[Worker(q).start() for _ in range(4)]\n",
    "\n",
    "q.join()"
   ]
  },
  {
   "cell_type": "markdown",
   "metadata": {},
   "source": [
    "### OLD: Nested schema"
   ]
  },
  {
   "cell_type": "code",
   "execution_count": null,
   "metadata": {},
   "outputs": [],
   "source": [
    "session_id = dt.now().strftime(\"%Y%m%d\")\n",
    "pigeon_id = 0\n",
    "\n",
    "sensors = { s: get_sample(d) for s,d in GASES.items() }\n",
    "latm = gauss(mu=PATH[\"LAT\"][\"start\"], sigma=0.3)\n",
    "lonm = gauss(mu=PATH[\"LON\"][\"start\"], sigma=0.3)\n",
    "\n",
    "measurement = {\n",
    "  \"timestamp\": {\".sv\": \"timestamp\"},\n",
    "  \"lat\": round(gauss(mu=latm, sigma=0.01), 4),\n",
    "  \"lon\": round(gauss(mu=lonm, sigma=0.01), 4),\n",
    "  **sensors,\n",
    "}\n",
    "\n",
    "post_url = f\"{DB_URL}/sessions/{session_id}/pigeons/{pigeon_id}/measurements.json?auth={token}\"\n",
    "res = requests.post(post_url, json=measurement)\n",
    "print(res.text)"
   ]
  }
 ],
 "metadata": {
  "kernelspec": {
   "display_name": "Python 3.8.12 ('cordiais')",
   "language": "python",
   "name": "python3"
  },
  "language_info": {
   "codemirror_mode": {
    "name": "ipython",
    "version": 3
   },
   "file_extension": ".py",
   "mimetype": "text/x-python",
   "name": "python",
   "nbconvert_exporter": "python",
   "pygments_lexer": "ipython3",
   "version": "3.9.17"
  },
  "orig_nbformat": 4,
  "vscode": {
   "interpreter": {
    "hash": "f1c2f62437e6d0e01f5e1b297c172b677510728d5fc922584782013da7e41d7f"
   }
  }
 },
 "nbformat": 4,
 "nbformat_minor": 2
}
